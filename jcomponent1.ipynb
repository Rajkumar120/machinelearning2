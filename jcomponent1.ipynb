{
  "nbformat": 4,
  "nbformat_minor": 0,
  "metadata": {
    "colab": {
      "provenance": [],
      "collapsed_sections": [],
      "authorship_tag": "ABX9TyOD17i2DzuweXYSSXlpBRFK",
      "include_colab_link": true
    },
    "kernelspec": {
      "name": "python3",
      "display_name": "Python 3"
    },
    "language_info": {
      "name": "python"
    }
  },
  "cells": [
    {
      "cell_type": "markdown",
      "metadata": {
        "id": "view-in-github",
        "colab_type": "text"
      },
      "source": [
        "<a href=\"https://colab.research.google.com/github/Rajkumar120/machinelearning2/blob/main/jcomponent1.ipynb\" target=\"_parent\"><img src=\"https://colab.research.google.com/assets/colab-badge.svg\" alt=\"Open In Colab\"/></a>"
      ]
    },
    {
      "cell_type": "code",
      "execution_count": null,
      "metadata": {
        "id": "NfEWTih_6qEf"
      },
      "outputs": [],
      "source": [
        "import numpy as np\n",
        "import pandas as pd\n",
        "import matplotlib.pyplot as plt\n",
        "data =pd.read_csv(\"Salary_Data-1.csv\")\n",
        "print(\"the data is:\\n\",data)\n",
        "x=data['YearsExperience'].values\n",
        "print(\"the YearsExperience\\n\",x)\n",
        "y=data['Salary'].values\n",
        "print(\"the salary is:\\n\",y)\n",
        "meanx=np.mean(x)\n",
        "meany=np.mean(y)\n",
        "nr=0\n",
        "dr=0\n",
        "n=len(x)\n",
        "for i in range(n):\n",
        "  nr+=(x[i]-meanx)*(y[i]-meany)\n",
        "  dr+=(x[i]-meanx)**2\n",
        "m=nr/dr\n",
        "c=meany-(m*meanx)\n",
        "print(\"the cofficients are:\\n\",m)\n",
        "print(\"the coefficients are:\\n\",c)\n",
        "\n",
        "plt.plot(x,y,marker='s',ms=\"10\",c='blue',ls=\"dotted\")\n",
        "plt.scatter(x,y,c='black')\n",
        "plt.grid(axis=\"both\",ls=\"dashed\",lw=1,c=\"g\")\n",
        "plt.xlabel(\"YEARS EXPERIENCE\")\n",
        "plt.ylabel(\"SALARY\")\n",
        "plt.title(\"SALARY DATASET\")\n",
        "mse=0\n",
        "for i in range(n):\n",
        "  ypred=(m*x[i])+c\n",
        "  mse+=(y[i]-ypred)**2\n",
        "mse=np.sqrt(mse)\n",
        "print(mse)\n",
        "mse=mse/n\n",
        "print(\"the mean square error is:\\n\",mse)\n",
        "\n"
      ]
    },
    {
      "cell_type": "code",
      "source": [],
      "metadata": {
        "id": "2aBPli2-2Dpb"
      },
      "execution_count": null,
      "outputs": []
    },
    {
      "cell_type": "code",
      "source": [],
      "metadata": {
        "id": "lsBdG5U2tzVj"
      },
      "execution_count": null,
      "outputs": []
    },
    {
      "cell_type": "code",
      "source": [],
      "metadata": {
        "id": "p0eCesFCtzxv"
      },
      "execution_count": null,
      "outputs": []
    }
  ]
}